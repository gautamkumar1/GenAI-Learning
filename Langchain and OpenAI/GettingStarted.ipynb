{
 "cells": [
  {
   "cell_type": "markdown",
   "metadata": {},
   "source": [
    "#### Getting started With Langchain And Open AI\n",
    "\n",
    "In this quickstart we'll see how to:\n",
    "\n",
    "- Get setup with LangChain, LangSmith and LangServe\n",
    "- Use the most basic and common components of LangChain: prompt templates, models, and output parsers.\n",
    "- Build a simple application with LangChain\n",
    "- Trace your application with LangSmith\n",
    "- Serve your application with LangServe"
   ]
  },
  {
   "cell_type": "code",
   "execution_count": 3,
   "metadata": {},
   "outputs": [
    {
     "name": "stdout",
     "output_type": "stream",
     "text": [
      "content='JavaScript is a high-level, interpreted programming language that is commonly used to create interactive effects within web browsers. It is a core technology of the World Wide Web, alongside HTML and CSS, and enables dynamic content and interactive applications. JavaScript allows developers to implement complex features on web pages, such as:\\n\\n1. **Interactivity**: Enhancing user interaction through clickable buttons, forms, animated graphics, and dynamic changes to the content.\\n\\n2. **Client-side scripting**: Running scripts directly in the browser without interacting with the server, which reduces server load and enhances user experience by making web pages more responsive.\\n\\n3. **Manipulation of HTML/CSS**: Dynamically altering the structure of web pages (DOM manipulation) and changing styles for real-time effects.\\n\\n4. **Event Handling**: Responding to user inputs like mouse clicks, keyboard presses, or other events to trigger specific actions.\\n\\n5. **Asynchronous Communication**: Making asynchronous requests to servers to fetch data without reloading the web page using AJAX (Asynchronous JavaScript and XML).\\n\\n6. **Building Rich Web Applications**: Leveraging frameworks and libraries like React, Angular, and Vue.js to develop complex, single-page applications.\\n\\nJavaScript is a versatile language that can also be used for server-side development (e.g., Node.js), but its primary use remains in enhancing web pages and providing a better user interface within browsers.' additional_kwargs={'refusal': None} response_metadata={'token_usage': {'completion_tokens': 284, 'prompt_tokens': 11, 'total_tokens': 295, 'completion_tokens_details': {'accepted_prediction_tokens': 0, 'audio_tokens': 0, 'reasoning_tokens': 0, 'rejected_prediction_tokens': 0}, 'prompt_tokens_details': {'audio_tokens': 0, 'cached_tokens': 0}}, 'model_name': 'gpt-4o-2024-08-06', 'system_fingerprint': 'fp_4691090a87', 'finish_reason': 'stop', 'logprobs': None} id='run-d9432abf-b308-4eae-b862-d7e130409feb-0' usage_metadata={'input_tokens': 11, 'output_tokens': 284, 'total_tokens': 295, 'input_token_details': {'audio': 0, 'cache_read': 0}, 'output_token_details': {'audio': 0, 'reasoning': 0}}\n"
     ]
    }
   ],
   "source": [
    "import os\n",
    "from dotenv import  load_dotenv;\n",
    "os.environ[\"OPENAI_API_KEY\"]=os.getenv(\"OPENAI_API_KEY\")\n",
    "# LangSmith tracking\n",
    "os.environ[\"LANGSMITH_API_KEY\"]=os.getenv(\"LANGSMITH_API_KEY\")\n",
    "os.environ[\"LANGCHAIN_TRACING_V2\"]=\"true\"\n",
    "os.environ[\"LANGCHAIN_PROJECT\"]=os.getenv(\"LANGCHAIN_PROJECT\")\n",
    "from langchain_openai import ChatOpenAI;\n",
    "llm = ChatOpenAI(model=\"gpt-4o\")\n",
    "## Input and get response from open ai\n",
    "result = llm.invoke(\"what is javascript?\")\n",
    "print(result)"
   ]
  },
  {
   "cell_type": "code",
   "execution_count": 4,
   "metadata": {},
   "outputs": [
    {
     "name": "stdout",
     "output_type": "stream",
     "text": [
      "Langsmith is a platform designed to enhance the development, testing, and deployment of applications built on large language models (LLMs). It provides tools for debugging, monitoring, and evaluating LLM-based applications, helping developers refine their conversational AI workflows. With features such as real-time monitoring, analytics, and the ability to iterate quickly, Langsmith simplifies the process of creating high-quality language model applications.\n"
     ]
    }
   ],
   "source": [
    "### Chatprompt Template\n",
    "from langchain_core.prompts import ChatPromptTemplate\n",
    "from langchain_core.output_parsers import StrOutputParser\n",
    "prompt=ChatPromptTemplate.from_messages(\n",
    "    [\n",
    "        (\"system\",\"You are an expert AI Engineer. Provide me answers based on the questions\"),\n",
    "        (\"user\",\"{input}\")\n",
    "    ]\n",
    "\n",
    ")\n",
    "\n",
    "output_parser = StrOutputParser()\n",
    "# chain means how the flow of the conversation will be - frist go to promt then to openai(llm) then parse the output\n",
    "chain = prompt|llm|output_parser\n",
    "response = chain.invoke(\"What is langsmith?\")\n",
    "print(response)"
   ]
  }
 ],
 "metadata": {
  "kernelspec": {
   "display_name": "venv",
   "language": "python",
   "name": "python3"
  },
  "language_info": {
   "codemirror_mode": {
    "name": "ipython",
    "version": 3
   },
   "file_extension": ".py",
   "mimetype": "text/x-python",
   "name": "python",
   "nbconvert_exporter": "python",
   "pygments_lexer": "ipython3",
   "version": "3.12.8"
  }
 },
 "nbformat": 4,
 "nbformat_minor": 2
}
