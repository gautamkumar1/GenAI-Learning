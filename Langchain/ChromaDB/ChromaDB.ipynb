{
 "cells": [
  {
   "cell_type": "markdown",
   "metadata": {},
   "source": [
    "# ChromaDB\n",
    "ChromaDB is an open source ai vector database focused on developer productiviy and happines. "
   ]
  },
  {
   "cell_type": "code",
   "execution_count": 2,
   "metadata": {},
   "outputs": [
    {
     "data": {
      "text/plain": [
       "'Key Features of LangChain\\nChains:\\n\\nCombines multiple LLM calls and other logic into a single sequence or workflow.\\nExample: Querying a database, summarizing the data, and generating a user-friendly response.\\nAgents:\\n\\nAllows applications to dynamically make decisions about which actions to take next based on user input or context.\\nExample: Querying an API, fetching documents, or interacting with external tools like search engines or calculators.\\nMemory:'"
      ]
     },
     "execution_count": 2,
     "metadata": {},
     "output_type": "execute_result"
    }
   ],
   "source": [
    "from langchain_chroma import Chroma\n",
    "from langchain_community.document_loaders import  TextLoader\n",
    "from langchain_community.embeddings import OllamaEmbeddings\n",
    "from langchain_text_splitters import CharacterTextSplitter\n",
    "loader = TextLoader(\"speech.txt\")\n",
    "text_document = loader.load()\n",
    "text_splitter = CharacterTextSplitter(chunk_size=500,chunk_overlap=50)\n",
    "text_splitter_result = text_splitter.split_documents(text_document)\n",
    "embeddings = OllamaEmbeddings(\n",
    "    model=\"gemma2:2b\"\n",
    ")\n",
    "db = Chroma.from_documents(text_splitter_result,embeddings)\n",
    "db\n",
    "# Query the database\n",
    "query = \"what was the key feature of the langchain explain in 10 words.\"\n",
    "result_of_query = db.similarity_search(query)\n",
    "result_of_query[0].page_content"
   ]
  }
 ],
 "metadata": {
  "kernelspec": {
   "display_name": "venv",
   "language": "python",
   "name": "python3"
  },
  "language_info": {
   "codemirror_mode": {
    "name": "ipython",
    "version": 3
   },
   "file_extension": ".py",
   "mimetype": "text/x-python",
   "name": "python",
   "nbconvert_exporter": "python",
   "pygments_lexer": "ipython3",
   "version": "3.12.8"
  }
 },
 "nbformat": 4,
 "nbformat_minor": 2
}
