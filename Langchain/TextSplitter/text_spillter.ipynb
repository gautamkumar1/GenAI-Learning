{
 "cells": [
  {
   "cell_type": "markdown",
   "metadata": {},
   "source": [
    "## How rRecursively split by character \n",
    "step 1 : Load the documents\n",
    "Step 2 : Split the documents"
   ]
  },
  {
   "cell_type": "code",
   "execution_count": 1,
   "metadata": {},
   "outputs": [
    {
     "data": {
      "text/plain": [
       "[Document(metadata={'source': 'nodejs.pdf', 'page': 0}, page_content=\"Top Node.js Interview Questions and Answers\\nQ: What is Node.js?\\nA: Node.js is an open-source, cross-platform runtime environment built on Chrome's V8 JavaScript\\nengine. It allows JavaScript to be used for server-side scripting, enabling developers to build\\nscalable and high-performance applications.\\nQ: What is the difference between Node.js and JavaScript?\\nA: JavaScript is a programming language primarily used for client-side scripting in browsers, while\\nNode.js is a runtime environment that enables JavaScript to run on the server.\\nQ: What are the key features of Node.js?\\nA: - Non-blocking and event-driven I/O\\n- Built-in asynchronous programming support\\n- Single-threaded but highly scalable\\n- Large ecosystem via npm (Node Package Manager)\\nQ: Explain the event loop in Node.js.\\nA: The event loop is the mechanism that allows Node.js to perform non-blocking I/O operations. It\\ncontinuously checks the call stack and event queue for tasks to execute, handling them\\nasynchronously.\\nQ: What is the difference between setImmediate() and process.nextTick()?\\nA: - process.nextTick(): Executes a callback immediately after the current operation finishes, before\\nthe event loop continues.\\n- setImmediate(): Schedules a callback to be executed in the next iteration of the event loop.\\nQ: What are streams in Node.js?\\nA: Streams are objects that enable reading or writing data in chunks, improving performance for\"),\n",
       " Document(metadata={'source': 'nodejs.pdf', 'page': 1}, page_content='large files. There are four types of streams:\\n- Readable: Read data (e.g., fs.createReadStream).\\n- Writable: Write data (e.g., fs.createWriteStream).\\n- Duplex: Both read and write (e.g., network sockets).\\n- Transform: Modify or transform data (e.g., zlib.createGzip).\\nQ: What is middleware in Node.js?\\nA: Middleware is a function in Express.js that processes requests and responses. It can:\\n- Execute code.\\n- Modify requests and responses.\\n- End the request-response cycle.\\n- Call the next middleware in the stack.\\nQ: How does Node.js handle concurrency?\\nA: Node.js uses a single-threaded event loop for non-blocking operations. For heavy I/O tasks or\\nCPU-intensive operations, it offloads them to worker threads or the thread pool, using the libuv\\nlibrary for handling concurrency.\\nQ: What is clustering in Node.js?\\nA: Clustering allows you to create multiple child processes (workers) sharing the same server port to\\nleverage multi-core CPUs and improve application performance. Example: using the cluster module.\\nQ: What is the purpose of buffer in Node.js?\\nA: The Buffer class is used to handle binary data directly in Node.js, especially when dealing with file\\nsystems, streams, and networking.\\nQ: Explain how to secure a Node.js application.\\nA: - Use HTTPS.\\n- Sanitize and validate user inputs.'),\n",
       " Document(metadata={'source': 'nodejs.pdf', 'page': 2}, page_content=\"- Implement authentication and authorization (e.g., JWT, OAuth).\\n- Prevent SQL and NoSQL injection.\\n- Use Helmet for setting HTTP headers.\\n- Avoid storing sensitive information in plain text.\\nQ: How does Node.js handle file uploads?\\nA: Node.js can handle file uploads using packages like multer or formidable, which parse incoming\\nform-data and save the files to the server or storage.\\nQ: Write an example of a simple HTTP server in Node.js.\\nA: ```javascript\\nconst http = require('http');\\nconst server = http.createServer((req, res) => {\\n  if (req.url === '/') {\\n    res.writeHead(200, { 'Content-Type': 'text/plain' });\\n    res.end('Welcome to the homepage!');\\n  } else {\\n    res.writeHead(404, { 'Content-Type': 'text/plain' });\\n    res.end('Page not found');\\n  }\\n});\\nserver.listen(3000, () => {\\n  console.log('Server is running on port 3000');\\n});\\n```\"),\n",
       " Document(metadata={'source': 'nodejs.pdf', 'page': 3}, page_content='Q: Explain the difference between synchronous and asynchronous programming in Node.js.\\nA: - Synchronous: Tasks are executed one after another, blocking further execution until the current\\ntask completes.\\n- Asynchronous: Tasks can run in parallel, allowing the next task to start without waiting for the\\nprevious one to complete.')]"
      ]
     },
     "execution_count": 1,
     "metadata": {},
     "output_type": "execute_result"
    }
   ],
   "source": [
    "from langchain_community.document_loaders import  PyPDFLoader;\n",
    "loader = PyPDFLoader(\"nodejs.pdf\")\n",
    "pdf_document = loader.load()\n",
    "pdf_document"
   ]
  },
  {
   "cell_type": "code",
   "execution_count": 4,
   "metadata": {},
   "outputs": [
    {
     "name": "stdout",
     "output_type": "stream",
     "text": [
      "page_content='Top Node.js Interview Questions and Answers\n",
      "Q: What is Node.js?\n",
      "A: Node.js is an open-source, cross-platform runtime environment built on Chrome's V8 JavaScript' metadata={'source': 'nodejs.pdf', 'page': 0}\n"
     ]
    }
   ],
   "source": [
    "from langchain_text_splitters import RecursiveCharacterTextSplitter\n",
    "text_splitter = RecursiveCharacterTextSplitter(chunk_size=200,chunk_overlap=50)\n",
    "chunks = text_splitter.split_documents(pdf_document)\n",
    "chunks\n",
    "print(chunks[0])"
   ]
  },
  {
   "cell_type": "markdown",
   "metadata": {},
   "source": [
    "# Text Splitting Technique-Character Text splitter"
   ]
  },
  {
   "cell_type": "code",
   "execution_count": 11,
   "metadata": {},
   "outputs": [
    {
     "data": {
      "text/plain": [
       "[Document(metadata={'source': 'nodejs.pdf', 'page': 0}, page_content=\"Top Node.js Interview Questions and Answers\\nQ: What is Node.js?\\nA: Node.js is an open-source, cross-platform runtime environment built on Chrome's V8 JavaScript\\nengine. It allows JavaScript to be used for server-side scripting, enabling developers to build\\nscalable and high-performance applications.\\nQ: What is the difference between Node.js and JavaScript?\\nA: JavaScript is a programming language primarily used for client-side scripting in browsers, while\\nNode.js is a runtime environment that enables JavaScript to run on the server.\\nQ: What are the key features of Node.js?\\nA: - Non-blocking and event-driven I/O\\n- Built-in asynchronous programming support\\n- Single-threaded but highly scalable\\n- Large ecosystem via npm (Node Package Manager)\\nQ: Explain the event loop in Node.js.\\nA: The event loop is the mechanism that allows Node.js to perform non-blocking I/O operations. It\\ncontinuously checks the call stack and event queue for tasks to execute, handling them\\nasynchronously.\\nQ: What is the difference between setImmediate() and process.nextTick()?\\nA: - process.nextTick(): Executes a callback immediately after the current operation finishes, before\\nthe event loop continues.\\n- setImmediate(): Schedules a callback to be executed in the next iteration of the event loop.\\nQ: What are streams in Node.js?\\nA: Streams are objects that enable reading or writing data in chunks, improving performance for\"),\n",
       " Document(metadata={'source': 'nodejs.pdf', 'page': 1}, page_content='large files. There are four types of streams:\\n- Readable: Read data (e.g., fs.createReadStream).\\n- Writable: Write data (e.g., fs.createWriteStream).\\n- Duplex: Both read and write (e.g., network sockets).\\n- Transform: Modify or transform data (e.g., zlib.createGzip).\\nQ: What is middleware in Node.js?\\nA: Middleware is a function in Express.js that processes requests and responses. It can:\\n- Execute code.\\n- Modify requests and responses.\\n- End the request-response cycle.\\n- Call the next middleware in the stack.\\nQ: How does Node.js handle concurrency?\\nA: Node.js uses a single-threaded event loop for non-blocking operations. For heavy I/O tasks or\\nCPU-intensive operations, it offloads them to worker threads or the thread pool, using the libuv\\nlibrary for handling concurrency.\\nQ: What is clustering in Node.js?\\nA: Clustering allows you to create multiple child processes (workers) sharing the same server port to\\nleverage multi-core CPUs and improve application performance. Example: using the cluster module.\\nQ: What is the purpose of buffer in Node.js?\\nA: The Buffer class is used to handle binary data directly in Node.js, especially when dealing with file\\nsystems, streams, and networking.\\nQ: Explain how to secure a Node.js application.\\nA: - Use HTTPS.\\n- Sanitize and validate user inputs.'),\n",
       " Document(metadata={'source': 'nodejs.pdf', 'page': 2}, page_content=\"- Implement authentication and authorization (e.g., JWT, OAuth).\\n- Prevent SQL and NoSQL injection.\\n- Use Helmet for setting HTTP headers.\\n- Avoid storing sensitive information in plain text.\\nQ: How does Node.js handle file uploads?\\nA: Node.js can handle file uploads using packages like multer or formidable, which parse incoming\\nform-data and save the files to the server or storage.\\nQ: Write an example of a simple HTTP server in Node.js.\\nA: ```javascript\\nconst http = require('http');\\nconst server = http.createServer((req, res) => {\\n  if (req.url === '/') {\\n    res.writeHead(200, { 'Content-Type': 'text/plain' });\\n    res.end('Welcome to the homepage!');\\n  } else {\\n    res.writeHead(404, { 'Content-Type': 'text/plain' });\\n    res.end('Page not found');\\n  }\\n});\\nserver.listen(3000, () => {\\n  console.log('Server is running on port 3000');\\n});\\n```\"),\n",
       " Document(metadata={'source': 'nodejs.pdf', 'page': 3}, page_content='Q: Explain the difference between synchronous and asynchronous programming in Node.js.\\nA: - Synchronous: Tasks are executed one after another, blocking further execution until the current\\ntask completes.\\n- Asynchronous: Tasks can run in parallel, allowing the next task to start without waiting for the\\nprevious one to complete.')]"
      ]
     },
     "execution_count": 11,
     "metadata": {},
     "output_type": "execute_result"
    }
   ],
   "source": [
    "from langchain_community.document_loaders import  PyPDFLoader;\n",
    "loader = PyPDFLoader(\"nodejs.pdf\")\n",
    "docs = loader.load()\n",
    "docs"
   ]
  },
  {
   "cell_type": "code",
   "execution_count": 14,
   "metadata": {},
   "outputs": [
    {
     "data": {
      "text/plain": [
       "[Document(metadata={'source': 'nodejs.pdf', 'page': 0}, page_content=\"Top Node.js Interview Questions and Answers\\nQ: What is Node.js?\\nA: Node.js is an open-source, cross-platform runtime environment built on Chrome's V8 JavaScript\\nengine. It allows JavaScript to be used for server-side scripting, enabling developers to build\\nscalable and high-performance applications.\\nQ: What is the difference between Node.js and JavaScript?\\nA: JavaScript is a programming language primarily used for client-side scripting in browsers, while\\nNode.js is a runtime environment that enables JavaScript to run on the server.\\nQ: What are the key features of Node.js?\\nA: - Non-blocking and event-driven I/O\\n- Built-in asynchronous programming support\\n- Single-threaded but highly scalable\\n- Large ecosystem via npm (Node Package Manager)\\nQ: Explain the event loop in Node.js.\\nA: The event loop is the mechanism that allows Node.js to perform non-blocking I/O operations. It\\ncontinuously checks the call stack and event queue for tasks to execute, handling them\\nasynchronously.\\nQ: What is the difference between setImmediate() and process.nextTick()?\\nA: - process.nextTick(): Executes a callback immediately after the current operation finishes, before\\nthe event loop continues.\\n- setImmediate(): Schedules a callback to be executed in the next iteration of the event loop.\\nQ: What are streams in Node.js?\\nA: Streams are objects that enable reading or writing data in chunks, improving performance for\"),\n",
       " Document(metadata={'source': 'nodejs.pdf', 'page': 1}, page_content='large files. There are four types of streams:\\n- Readable: Read data (e.g., fs.createReadStream).\\n- Writable: Write data (e.g., fs.createWriteStream).\\n- Duplex: Both read and write (e.g., network sockets).\\n- Transform: Modify or transform data (e.g., zlib.createGzip).\\nQ: What is middleware in Node.js?\\nA: Middleware is a function in Express.js that processes requests and responses. It can:\\n- Execute code.\\n- Modify requests and responses.\\n- End the request-response cycle.\\n- Call the next middleware in the stack.\\nQ: How does Node.js handle concurrency?\\nA: Node.js uses a single-threaded event loop for non-blocking operations. For heavy I/O tasks or\\nCPU-intensive operations, it offloads them to worker threads or the thread pool, using the libuv\\nlibrary for handling concurrency.\\nQ: What is clustering in Node.js?\\nA: Clustering allows you to create multiple child processes (workers) sharing the same server port to\\nleverage multi-core CPUs and improve application performance. Example: using the cluster module.\\nQ: What is the purpose of buffer in Node.js?\\nA: The Buffer class is used to handle binary data directly in Node.js, especially when dealing with file\\nsystems, streams, and networking.\\nQ: Explain how to secure a Node.js application.\\nA: - Use HTTPS.\\n- Sanitize and validate user inputs.'),\n",
       " Document(metadata={'source': 'nodejs.pdf', 'page': 2}, page_content=\"- Implement authentication and authorization (e.g., JWT, OAuth).\\n- Prevent SQL and NoSQL injection.\\n- Use Helmet for setting HTTP headers.\\n- Avoid storing sensitive information in plain text.\\nQ: How does Node.js handle file uploads?\\nA: Node.js can handle file uploads using packages like multer or formidable, which parse incoming\\nform-data and save the files to the server or storage.\\nQ: Write an example of a simple HTTP server in Node.js.\\nA: ```javascript\\nconst http = require('http');\\nconst server = http.createServer((req, res) => {\\n  if (req.url === '/') {\\n    res.writeHead(200, { 'Content-Type': 'text/plain' });\\n    res.end('Welcome to the homepage!');\\n  } else {\\n    res.writeHead(404, { 'Content-Type': 'text/plain' });\\n    res.end('Page not found');\\n  }\\n});\\nserver.listen(3000, () => {\\n  console.log('Server is running on port 3000');\\n});\\n```\"),\n",
       " Document(metadata={'source': 'nodejs.pdf', 'page': 3}, page_content='Q: Explain the difference between synchronous and asynchronous programming in Node.js.\\nA: - Synchronous: Tasks are executed one after another, blocking further execution until the current\\ntask completes.\\n- Asynchronous: Tasks can run in parallel, allowing the next task to start without waiting for the\\nprevious one to complete.')]"
      ]
     },
     "execution_count": 14,
     "metadata": {},
     "output_type": "execute_result"
    }
   ],
   "source": [
    "from langchain_text_splitters import CharacterTextSplitter;\n",
    "text_splitter2 = CharacterTextSplitter(separator=\"\\n\\n\",chunk_size=100,chunk_overlap=20)\n",
    "chunks2 = text_splitter2.split_documents(docs)\n",
    "chunks2"
   ]
  },
  {
   "cell_type": "markdown",
   "metadata": {},
   "source": [
    "# Split by HTML header using html string"
   ]
  },
  {
   "cell_type": "code",
   "execution_count": 16,
   "metadata": {},
   "outputs": [
    {
     "data": {
      "text/plain": [
       "[Document(metadata={}, page_content='Foo'),\n",
       " Document(metadata={'Header 1': 'Foo'}, page_content='Some intro text about Foo.  \\nBar main section Bar subsection 1 Bar subsection 2'),\n",
       " Document(metadata={'Header 1': 'Foo', 'Header 2': 'Bar main section'}, page_content='Some intro text about Bar.'),\n",
       " Document(metadata={'Header 1': 'Foo', 'Header 2': 'Bar main section', 'Header 3': 'Bar subsection 1'}, page_content='Some text about the first subtopic of Bar.'),\n",
       " Document(metadata={'Header 1': 'Foo', 'Header 2': 'Bar main section', 'Header 3': 'Bar subsection 2'}, page_content='Some text about the second subtopic of Bar.'),\n",
       " Document(metadata={'Header 1': 'Foo'}, page_content='Baz'),\n",
       " Document(metadata={'Header 1': 'Foo', 'Header 2': 'Baz'}, page_content='Some text about Baz'),\n",
       " Document(metadata={'Header 1': 'Foo'}, page_content='Some concluding text about Foo')]"
      ]
     },
     "execution_count": 16,
     "metadata": {},
     "output_type": "execute_result"
    }
   ],
   "source": [
    "from langchain_text_splitters import HTMLHeaderTextSplitter\n",
    "\n",
    "html_string = \"\"\"\n",
    "<!DOCTYPE html>\n",
    "<html>\n",
    "<body>\n",
    "    <div>\n",
    "        <h1>Foo</h1>\n",
    "        <p>Some intro text about Foo.</p>\n",
    "        <div>\n",
    "            <h2>Bar main section</h2>\n",
    "            <p>Some intro text about Bar.</p>\n",
    "            <h3>Bar subsection 1</h3>\n",
    "            <p>Some text about the first subtopic of Bar.</p>\n",
    "            <h3>Bar subsection 2</h3>\n",
    "            <p>Some text about the second subtopic of Bar.</p>\n",
    "        </div>\n",
    "        <div>\n",
    "            <h2>Baz</h2>\n",
    "            <p>Some text about Baz</p>\n",
    "        </div>\n",
    "        <br>\n",
    "        <p>Some concluding text about Foo</p>\n",
    "    </div>\n",
    "</body>\n",
    "</html>\n",
    "\"\"\"\n",
    "\n",
    "headers_to_split_on = [\n",
    "    (\"h1\", \"Header 1\"),\n",
    "    (\"h2\", \"Header 2\"),\n",
    "    (\"h3\", \"Header 3\"),\n",
    "]\n",
    "\n",
    "html_splitter = HTMLHeaderTextSplitter(headers_to_split_on=headers_to_split_on)\n",
    "html_header_splits = html_splitter.split_text(html_string)\n",
    "html_header_splits"
   ]
  },
  {
   "cell_type": "markdown",
   "metadata": {},
   "source": [
    "# Split by HTML header using url"
   ]
  },
  {
   "cell_type": "code",
   "execution_count": 17,
   "metadata": {},
   "outputs": [
    {
     "name": "stdout",
     "output_type": "stream",
     "text": [
      "No two El Niño winters are the same, but many have temperature and precipitation trends in common.  \n",
      "Average conditions during an El Niño winter across the continental US.  \n",
      "One of the major reasons is the position of the jet stream, which often shifts south during an El Niño winter. This shift typically brings wetter and cooler weather to the South while the North becomes drier and warmer, according to NOAA.  \n",
      "Because the jet stream is essentially a river of air that storms flow through, they c\n"
     ]
    }
   ],
   "source": [
    "url = \"https://www.cnn.com/2023/09/25/weather/el-nino-winter-us-climate/index.html\"\n",
    "\n",
    "headers_to_split_on = [\n",
    "    (\"h1\", \"Header 1\"),\n",
    "    (\"h2\", \"Header 2\"),\n",
    "]\n",
    "\n",
    "html_splitter = HTMLHeaderTextSplitter(headers_to_split_on)\n",
    "html_header_splits = html_splitter.split_text_from_url(url)\n",
    "print(html_header_splits[1].page_content[:500])"
   ]
  }
 ],
 "metadata": {
  "kernelspec": {
   "display_name": "venv",
   "language": "python",
   "name": "python3"
  },
  "language_info": {
   "codemirror_mode": {
    "name": "ipython",
    "version": 3
   },
   "file_extension": ".py",
   "mimetype": "text/x-python",
   "name": "python",
   "nbconvert_exporter": "python",
   "pygments_lexer": "ipython3",
   "version": "3.12.8"
  }
 },
 "nbformat": 4,
 "nbformat_minor": 2
}
