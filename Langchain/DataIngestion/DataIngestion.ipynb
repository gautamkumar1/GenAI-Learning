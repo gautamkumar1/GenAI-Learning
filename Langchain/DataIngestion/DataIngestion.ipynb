{
 "cells": [
  {
   "cell_type": "code",
   "execution_count": 4,
   "metadata": {},
   "outputs": [
    {
     "data": {
      "text/plain": [
       "[Document(metadata={'source': 'speech.txt'}, page_content='LangChain is a framework designed to simplify the development of applications that leverage large language models (LLMs) like OpenAI’s GPT, Google’s Bard, and others. It focuses on enabling developers to create data-aware and agent-driven applications that can integrate seamlessly with custom workflows, external tools, and structured data sources.\\n\\nKey Features of LangChain\\nChains:\\n\\nCombines multiple LLM calls and other logic into a single sequence or workflow.\\nExample: Querying a database, summarizing the data, and generating a user-friendly response.\\nAgents:\\n\\nAllows applications to dynamically make decisions about which actions to take next based on user input or context.\\nExample: Querying an API, fetching documents, or interacting with external tools like search engines or calculators.\\nMemory:\\n\\nAdds the ability to maintain conversational state over time.\\nUseful for chatbots or applications requiring context persistence across interactions.\\nData Integration:\\n\\nFacilitates connecting LLMs to external knowledge sources, including databases, APIs, and local files, to enrich responses.\\nExample: Answering queries using company-specific documentation or real-time data.\\nPrompt Templates:\\n\\nProvides utilities to dynamically construct prompts based on user input and other contextual information.\\nSupports modular and reusable prompt engineering.\\nTool Integration:\\n\\nLangChain can work with various tools such as:\\nSearch Engines: To fetch real-time information.\\nPython Functions: To perform calculations or complex tasks.\\nAPIs: To interact with external systems.')]"
      ]
     },
     "execution_count": 4,
     "metadata": {},
     "output_type": "execute_result"
    }
   ],
   "source": [
    "from langchain_community.document_loaders import TextLoader    # TextLoader\n",
    "loader = TextLoader(\"speech.txt\")\n",
    "text_document = loader.load()\n",
    "text_document"
   ]
  },
  {
   "cell_type": "code",
   "execution_count": 2,
   "metadata": {},
   "outputs": [
    {
     "data": {
      "text/plain": [
       "[Document(metadata={'source': 'nodejs.pdf', 'page': 0}, page_content=\"Top Node.js Interview Questions and Answers\\nQ: What is Node.js?\\nA: Node.js is an open-source, cross-platform runtime environment built on Chrome's V8 JavaScript\\nengine. It allows JavaScript to be used for server-side scripting, enabling developers to build\\nscalable and high-performance applications.\\nQ: What is the difference between Node.js and JavaScript?\\nA: JavaScript is a programming language primarily used for client-side scripting in browsers, while\\nNode.js is a runtime environment that enables JavaScript to run on the server.\\nQ: What are the key features of Node.js?\\nA: - Non-blocking and event-driven I/O\\n- Built-in asynchronous programming support\\n- Single-threaded but highly scalable\\n- Large ecosystem via npm (Node Package Manager)\\nQ: Explain the event loop in Node.js.\\nA: The event loop is the mechanism that allows Node.js to perform non-blocking I/O operations. It\\ncontinuously checks the call stack and event queue for tasks to execute, handling them\\nasynchronously.\\nQ: What is the difference between setImmediate() and process.nextTick()?\\nA: - process.nextTick(): Executes a callback immediately after the current operation finishes, before\\nthe event loop continues.\\n- setImmediate(): Schedules a callback to be executed in the next iteration of the event loop.\\nQ: What are streams in Node.js?\\nA: Streams are objects that enable reading or writing data in chunks, improving performance for\"),\n",
       " Document(metadata={'source': 'nodejs.pdf', 'page': 1}, page_content='large files. There are four types of streams:\\n- Readable: Read data (e.g., fs.createReadStream).\\n- Writable: Write data (e.g., fs.createWriteStream).\\n- Duplex: Both read and write (e.g., network sockets).\\n- Transform: Modify or transform data (e.g., zlib.createGzip).\\nQ: What is middleware in Node.js?\\nA: Middleware is a function in Express.js that processes requests and responses. It can:\\n- Execute code.\\n- Modify requests and responses.\\n- End the request-response cycle.\\n- Call the next middleware in the stack.\\nQ: How does Node.js handle concurrency?\\nA: Node.js uses a single-threaded event loop for non-blocking operations. For heavy I/O tasks or\\nCPU-intensive operations, it offloads them to worker threads or the thread pool, using the libuv\\nlibrary for handling concurrency.\\nQ: What is clustering in Node.js?\\nA: Clustering allows you to create multiple child processes (workers) sharing the same server port to\\nleverage multi-core CPUs and improve application performance. Example: using the cluster module.\\nQ: What is the purpose of buffer in Node.js?\\nA: The Buffer class is used to handle binary data directly in Node.js, especially when dealing with file\\nsystems, streams, and networking.\\nQ: Explain how to secure a Node.js application.\\nA: - Use HTTPS.\\n- Sanitize and validate user inputs.'),\n",
       " Document(metadata={'source': 'nodejs.pdf', 'page': 2}, page_content=\"- Implement authentication and authorization (e.g., JWT, OAuth).\\n- Prevent SQL and NoSQL injection.\\n- Use Helmet for setting HTTP headers.\\n- Avoid storing sensitive information in plain text.\\nQ: How does Node.js handle file uploads?\\nA: Node.js can handle file uploads using packages like multer or formidable, which parse incoming\\nform-data and save the files to the server or storage.\\nQ: Write an example of a simple HTTP server in Node.js.\\nA: ```javascript\\nconst http = require('http');\\nconst server = http.createServer((req, res) => {\\n  if (req.url === '/') {\\n    res.writeHead(200, { 'Content-Type': 'text/plain' });\\n    res.end('Welcome to the homepage!');\\n  } else {\\n    res.writeHead(404, { 'Content-Type': 'text/plain' });\\n    res.end('Page not found');\\n  }\\n});\\nserver.listen(3000, () => {\\n  console.log('Server is running on port 3000');\\n});\\n```\"),\n",
       " Document(metadata={'source': 'nodejs.pdf', 'page': 3}, page_content='Q: Explain the difference between synchronous and asynchronous programming in Node.js.\\nA: - Synchronous: Tasks are executed one after another, blocking further execution until the current\\ntask completes.\\n- Asynchronous: Tasks can run in parallel, allowing the next task to start without waiting for the\\nprevious one to complete.')]"
      ]
     },
     "execution_count": 2,
     "metadata": {},
     "output_type": "execute_result"
    }
   ],
   "source": [
    "from langchain_community.document_loaders import  PyPDFLoader;\n",
    "loader = PyPDFLoader(\"nodejs.pdf\")\n",
    "pdf_document = loader.load()\n",
    "pdf_document"
   ]
  }
 ],
 "metadata": {
  "kernelspec": {
   "display_name": "venv",
   "language": "python",
   "name": "python3"
  },
  "language_info": {
   "codemirror_mode": {
    "name": "ipython",
    "version": 3
   },
   "file_extension": ".py",
   "mimetype": "text/x-python",
   "name": "python",
   "nbconvert_exporter": "python",
   "pygments_lexer": "ipython3",
   "version": "3.12.8"
  }
 },
 "nbformat": 4,
 "nbformat_minor": 2
}
