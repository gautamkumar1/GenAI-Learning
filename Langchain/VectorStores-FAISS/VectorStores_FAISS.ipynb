{
 "cells": [
  {
   "cell_type": "markdown",
   "metadata": {},
   "source": [
    "Facebook AI Similarity Search (FAISS) is a library for efficient similarity search and clustering of dense vectors. It contains algorithms that search in sets of vectors of any size, up to ones that possibly do not fit in RAM. It also includes supporting code for evaluation and parameter tuning."
   ]
  },
  {
   "cell_type": "code",
   "execution_count": 8,
   "metadata": {},
   "outputs": [
    {
     "data": {
      "text/plain": [
       "'Key Features of LangChain\\nChains:\\n\\nCombines multiple LLM calls and other logic into a single sequence or workflow.\\nExample: Querying a database, summarizing the data, and generating a user-friendly response.\\nAgents:\\n\\nAllows applications to dynamically make decisions about which actions to take next based on user input or context.\\nExample: Querying an API, fetching documents, or interacting with external tools like search engines or calculators.\\nMemory:'"
      ]
     },
     "execution_count": 8,
     "metadata": {},
     "output_type": "execute_result"
    }
   ],
   "source": [
    "from langchain_community.document_loaders import  TextLoader\n",
    "from langchain_community.vectorstores import  FAISS\n",
    "from langchain_community.embeddings import OllamaEmbeddings\n",
    "from langchain_text_splitters import CharacterTextSplitter\n",
    "loader = TextLoader(\"speech.txt\")\n",
    "text_document = loader.load()\n",
    "text_splitter = CharacterTextSplitter(chunk_size=500,chunk_overlap=50)\n",
    "text_splitter_result = text_splitter.split_documents(text_document)\n",
    "embeddings = OllamaEmbeddings(\n",
    "    model=\"gemma2:2b\"\n",
    ")\n",
    "db = FAISS.from_documents(text_splitter_result,embeddings)\n",
    "db\n",
    "# Query the database\n",
    "query = \"what was the key feature of the langchain explain in 10 words.\"\n",
    "result_of_query = db.similarity_search(query)\n",
    "result_of_query[0].page_content"
   ]
  },
  {
   "cell_type": "markdown",
   "metadata": {},
   "source": [
    "# As a retriver\n",
    "We can also convert the vectorstore the retriver class. This allow us easly use it in the other langchain methods."
   ]
  },
  {
   "cell_type": "code",
   "execution_count": 9,
   "metadata": {},
   "outputs": [
    {
     "data": {
      "text/plain": [
       "'Key Features of LangChain\\nChains:\\n\\nCombines multiple LLM calls and other logic into a single sequence or workflow.\\nExample: Querying a database, summarizing the data, and generating a user-friendly response.\\nAgents:\\n\\nAllows applications to dynamically make decisions about which actions to take next based on user input or context.\\nExample: Querying an API, fetching documents, or interacting with external tools like search engines or calculators.\\nMemory:'"
      ]
     },
     "execution_count": 9,
     "metadata": {},
     "output_type": "execute_result"
    }
   ],
   "source": [
    "retriver = db.as_retriever()\n",
    "retriver_result = retriver.invoke(query)\n",
    "retriver_result[0].page_content"
   ]
  },
  {
   "cell_type": "markdown",
   "metadata": {},
   "source": [
    "# Similarity search score\n",
    "- Means return the distance scores of dcouments"
   ]
  },
  {
   "cell_type": "code",
   "execution_count": 10,
   "metadata": {},
   "outputs": [
    {
     "data": {
      "text/plain": [
       "[(Document(id='9625229f-2d47-452f-a22f-1e2d75c48969', metadata={'source': 'speech.txt'}, page_content='Key Features of LangChain\\nChains:\\n\\nCombines multiple LLM calls and other logic into a single sequence or workflow.\\nExample: Querying a database, summarizing the data, and generating a user-friendly response.\\nAgents:\\n\\nAllows applications to dynamically make decisions about which actions to take next based on user input or context.\\nExample: Querying an API, fetching documents, or interacting with external tools like search engines or calculators.\\nMemory:'),\n",
       "  np.float32(4990.5654)),\n",
       " (Document(id='6ca218b8-1b05-42c4-a7a3-a170b42eab54', metadata={'source': 'speech.txt'}, page_content='Adds the ability to maintain conversational state over time.\\nUseful for chatbots or applications requiring context persistence across interactions.\\nData Integration:\\n\\nFacilitates connecting LLMs to external knowledge sources, including databases, APIs, and local files, to enrich responses.\\nExample: Answering queries using company-specific documentation or real-time data.\\nPrompt Templates:'),\n",
       "  np.float32(5012.27)),\n",
       " (Document(id='454601de-c64c-4646-9a50-04fdcba1b394', metadata={'source': 'speech.txt'}, page_content='Provides utilities to dynamically construct prompts based on user input and other contextual information.\\nSupports modular and reusable prompt engineering.\\nTool Integration:\\n\\nLangChain can work with various tools such as:\\nSearch Engines: To fetch real-time information.\\nPython Functions: To perform calculations or complex tasks.\\nAPIs: To interact with external systems.'),\n",
       "  np.float32(7367.883)),\n",
       " (Document(id='2a03cd63-d576-4c3d-b9db-2571fb829ebf', metadata={'source': 'speech.txt'}, page_content='LangChain is a framework designed to simplify the development of applications that leverage large language models (LLMs) like OpenAI’s GPT, Google’s Bard, and others. It focuses on enabling developers to create data-aware and agent-driven applications that can integrate seamlessly with custom workflows, external tools, and structured data sources.\\n\\nKey Features of LangChain\\nChains:'),\n",
       "  np.float32(8737.3))]"
      ]
     },
     "execution_count": 10,
     "metadata": {},
     "output_type": "execute_result"
    }
   ],
   "source": [
    "similarity_score_result = db.similarity_search_with_score(query)\n",
    "similarity_score_result"
   ]
  },
  {
   "cell_type": "markdown",
   "metadata": {},
   "source": [
    "## Saving and store in local"
   ]
  },
  {
   "cell_type": "code",
   "execution_count": 15,
   "metadata": {},
   "outputs": [
    {
     "data": {
      "text/plain": [
       "[Document(id='9625229f-2d47-452f-a22f-1e2d75c48969', metadata={'source': 'speech.txt'}, page_content='Key Features of LangChain\\nChains:\\n\\nCombines multiple LLM calls and other logic into a single sequence or workflow.\\nExample: Querying a database, summarizing the data, and generating a user-friendly response.\\nAgents:\\n\\nAllows applications to dynamically make decisions about which actions to take next based on user input or context.\\nExample: Querying an API, fetching documents, or interacting with external tools like search engines or calculators.\\nMemory:'),\n",
       " Document(id='6ca218b8-1b05-42c4-a7a3-a170b42eab54', metadata={'source': 'speech.txt'}, page_content='Adds the ability to maintain conversational state over time.\\nUseful for chatbots or applications requiring context persistence across interactions.\\nData Integration:\\n\\nFacilitates connecting LLMs to external knowledge sources, including databases, APIs, and local files, to enrich responses.\\nExample: Answering queries using company-specific documentation or real-time data.\\nPrompt Templates:'),\n",
       " Document(id='454601de-c64c-4646-9a50-04fdcba1b394', metadata={'source': 'speech.txt'}, page_content='Provides utilities to dynamically construct prompts based on user input and other contextual information.\\nSupports modular and reusable prompt engineering.\\nTool Integration:\\n\\nLangChain can work with various tools such as:\\nSearch Engines: To fetch real-time information.\\nPython Functions: To perform calculations or complex tasks.\\nAPIs: To interact with external systems.'),\n",
       " Document(id='2a03cd63-d576-4c3d-b9db-2571fb829ebf', metadata={'source': 'speech.txt'}, page_content='LangChain is a framework designed to simplify the development of applications that leverage large language models (LLMs) like OpenAI’s GPT, Google’s Bard, and others. It focuses on enabling developers to create data-aware and agent-driven applications that can integrate seamlessly with custom workflows, external tools, and structured data sources.\\n\\nKey Features of LangChain\\nChains:')]"
      ]
     },
     "execution_count": 15,
     "metadata": {},
     "output_type": "execute_result"
    }
   ],
   "source": [
    "db.save_local(\"faiss_db\")\n",
    "new_db = FAISS.load_local(\"faiss_db\",embeddings,allow_dangerous_deserialization=True)\n",
    "new_db.similarity_search(query)"
   ]
  }
 ],
 "metadata": {
  "kernelspec": {
   "display_name": "venv",
   "language": "python",
   "name": "python3"
  },
  "language_info": {
   "codemirror_mode": {
    "name": "ipython",
    "version": 3
   },
   "file_extension": ".py",
   "mimetype": "text/x-python",
   "name": "python",
   "nbconvert_exporter": "python",
   "pygments_lexer": "ipython3",
   "version": "3.12.8"
  }
 },
 "nbformat": 4,
 "nbformat_minor": 2
}
